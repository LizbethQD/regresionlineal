{
  "nbformat": 4,
  "nbformat_minor": 0,
  "metadata": {
    "colab": {
      "provenance": []
    },
    "kernelspec": {
      "name": "python3",
      "display_name": "Python 3"
    },
    "language_info": {
      "name": "python"
    }
  },
  "cells": [
    {
      "cell_type": "code",
      "execution_count": null,
      "metadata": {
        "id": "E00DhnA0eEJI"
      },
      "outputs": [],
      "source": [
        "# Ejemplo de regresión lineal simple con el dataset Iris\n",
        "\n",
        "import pandas as pd\n",
        "import matplotlib.pyplot as plt\n",
        "from sklearn.datasets import load_iris\n",
        "from sklearn.linear_model import LinearRegression\n",
        "from sklearn.metrics import r2_score, mean_squared_error\n",
        "import numpy as np"
      ]
    },
    {
      "cell_type": "code",
      "source": [
        "# Cargar dataset Iris\n",
        "iris = load_iris()\n",
        "df = pd.DataFrame(data=iris.data, columns=iris.feature_names)\n"
      ],
      "metadata": {
        "id": "FtmCR9zVeJsP"
      },
      "execution_count": null,
      "outputs": []
    },
    {
      "cell_type": "code",
      "source": [
        "# Variables para regresión\n",
        "X = df[[\"petal length (cm)\"]]\n",
        "y = df[\"sepal length (cm)\"]"
      ],
      "metadata": {
        "id": "39PrxZj8eLwr"
      },
      "execution_count": null,
      "outputs": []
    },
    {
      "cell_type": "code",
      "source": [
        "# Modelo de regresión\n",
        "modelo = LinearRegression()\n",
        "modelo.fit(X, y)\n",
        "df[\"Predicción\"] = modelo.predict(X)"
      ],
      "metadata": {
        "id": "KTjZMfAXeOTY"
      },
      "execution_count": null,
      "outputs": []
    },
    {
      "cell_type": "code",
      "source": [
        "# Evaluación del modelo\n",
        "r2 = r2_score(y, df[\"Predicción\"])\n",
        "rmse = np.sqrt(mean_squared_error(y, df[\"Predicción\"]))\n",
        "\n",
        "print(f\"R²: {r2:.2f}\")\n",
        "print(f\"RMSE: {rmse:.2f}\")"
      ],
      "metadata": {
        "id": "NYu8FXPseQvD"
      },
      "execution_count": null,
      "outputs": []
    },
    {
      "cell_type": "code",
      "source": [
        "# Gráfico\n",
        "plt.scatter(X, y, label=\"Datos reales\")\n",
        "plt.plot(X, df[\"Predicción\"], color=\"red\", label=\"Línea de regresión\")\n",
        "plt.xlabel(\"Petal length (cm)\")\n",
        "plt.ylabel(\"Sepal length (cm)\")\n",
        "plt.title(\"Regresión lineal simple - Dataset Iris\")\n",
        "plt.legend()\n",
        "plt.grid(True)\n",
        "plt.show()"
      ],
      "metadata": {
        "id": "Vb7px4-peide"
      },
      "execution_count": null,
      "outputs": []
    }
  ]
}